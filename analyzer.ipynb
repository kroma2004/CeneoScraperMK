{
 "cells": [
  {
   "cell_type": "code",
   "execution_count": null,
   "metadata": {},
   "outputs": [],
   "source": [
    "import os\n",
    "import pandas as pd\n",
    "import numpy as np\n",
    "from matplotlib import pyplot as plt"
   ]
  },
  {
   "cell_type": "code",
   "execution_count": null,
   "metadata": {},
   "outputs": [],
   "source": [
    "print(*[file.split(\".\")[0] for file in os.listdir(\"opinions\")], sep=\"\\n\")"
   ]
  },
  {
   "cell_type": "code",
   "execution_count": 3,
   "metadata": {},
   "outputs": [],
   "source": [
    "product_id = input(\"Podaj kod produktu: \")\n",
    "opinions = pd.read_json(f'opinions/{product_id}.json')\n",
    "opinions.stars = opinions.stars.apply(lambda s: s.split(\"/\")[0].replace(\",\",\".\")).astype(float)\n",
    "opinions"
   ]
  },
  {
   "cell_type": "code",
   "execution_count": null,
   "metadata": {},
   "outputs": [],
   "source": [
    "opinions_count = opinions.shape[0]\n",
    "pros_count = opinions.pros.astype(bool).sum()\n",
    "cons_count = opinions.cons.astype(bool).sum()\n",
    "average_stars = opinions.stars.mean()\n",
    "average_stars"
   ]
  },
  {
   "cell_type": "code",
   "execution_count": null,
   "metadata": {},
   "outputs": [],
   "source": [
    "stars_distribution = opinions.stars.value_counts().reindex(np.arange(0,5.5,0.5))\n",
    "ax = stars_distribution.plot.bar(color = \"lightskyblue\")\n",
    "ax.set_title(f\"Histogram częstości ocen w opiniach o produkcie {product_id}\")\n",
    "ax.set_xlabel(\"Liczba gwiazdek\")\n",
    "ax.set_ylabel(\"Liczba opinii\")\n",
    "ax.set_xticklabels(ax.get_xticklabels(), rotation=0)\n",
    "ax.bar_label(ax.containers[0],  label_type='edge', fmt=lambda l: int(l) if l > 0 else '')"
   ]
  },
  {
   "cell_type": "code",
   "execution_count": null,
   "metadata": {},
   "outputs": [],
   "source": [
    "stars_distribution = opinions.stars.value_counts().reindex(np.arange(0,5.5,0.5))\n",
    "ax = stars_distribution.plot.bar(color = \"lightskyblue\")\n",
    "ax.set_title(f\"Histogram częstości ocen w opiniach o produkcie {product_id}\")\n",
    "ax.set_xlabel(\"Liczba gwiazdek\")\n",
    "ax.set_ylabel(\"Liczba opinii\")\n",
    "ax.set_xticklabels(ax.get_xticklabels(), rotation=0)\n",
    "ax.bar_label(ax.containers[0],  label_type='edge', fmt=lambda l: int(l) if l > 0 else '')"
   ]
  },
  {
   "cell_type": "code",
   "execution_count": null,
   "metadata": {},
   "outputs": [],
   "source": [
    "stars_distribution = opinions.stars.value_counts().reindex(np.arange(0,5.5,0.5))\n",
    "ax = stars_distribution.plot.bar(color = \"lightskyblue\")\n",
    "ax.set_title(f\"Histogram częstosci ocen w opiniach o produkcie {product_id}\")\n",
    "ax.set_xlabel(\"Liczba gwiazdek\")\n",
    "ax.set_ylabel(\"Liczba opinii\")\n",
    "ax.set_xticklabels(ax.get_xticklabels(), rotation=0)\n",
    "ax.bar_label(ax.containers[0],  label_type='edge', fmt=lambda l: int(l) if l > 0 else '')"
   ]
  },
  {
   "cell_type": "code",
   "execution_count": null,
   "metadata": {},
   "outputs": [],
   "source": [
    "recommendations_distribution = opinions.recommend.value_counts(dropna=False).reindex([\"Polecam\", \"Nie polecam\", None])\n",
    "recommendations_distribution.plot.pie(\n",
    "    autopct = lambda p: f'{round(p):.1f}%' if p > 0 else '',\n",
    "    label = \"\",\n",
    "    colors = ['forestgreen', 'crimson', 'gray'],\n",
    "    labels = ['Polecam', 'Nie polecam', 'Nie mam zdania']\n",
    "    )\n",
    "plt.title(f\"Udział  rekomendacji w opiniach o produkcie {product_id}\")"
   ]
  }
 ],
 "metadata": {
  "kernelspec": {
   "display_name": ".venv",
   "language": "python",
   "name": "python3"
  },
  "language_info": {
   "codemirror_mode": {
    "name": "ipython",
    "version": 3
   },
   "file_extension": ".py",
   "mimetype": "text/x-python",
   "name": "python",
   "nbconvert_exporter": "python",
   "pygments_lexer": "ipython3",
   "version": "3.10.6"
  }
 },
 "nbformat": 4,
 "nbformat_minor": 2
}
